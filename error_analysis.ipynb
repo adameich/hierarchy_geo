{
 "cells": [
  {
   "cell_type": "code",
   "execution_count": 1,
   "metadata": {},
   "outputs": [],
   "source": [
    "import numpy as np\n",
    "import matplotlib.pyplot as plt\n",
    "import pandas as pd\n",
    "import scipy.stats as stats\n",
    "import seaborn as sns\n",
    "import os\n",
    "import os.path\n",
    "from os.path import dirname, join as pjoin\n",
    "import sys\n",
    "import argparse\n",
    "import scipy.io as io\n",
    "import glob\n",
    "import sys"
   ]
  },
  {
   "cell_type": "code",
   "execution_count": 2,
   "metadata": {},
   "outputs": [],
   "source": [
    "baseDir = '/Users/Eichenbaum/HWNI/Experiments/HRL_Geometry'\n",
    "scriptDir = baseDir + '/scripts/analysis/extract_task_timing_data'\n",
    "behavDir_base = baseDir + '/data/behav'"
   ]
  },
  {
   "cell_type": "code",
   "execution_count": 3,
   "metadata": {},
   "outputs": [],
   "source": [
    "subs = ['001', '002', '003', '004', '005', '006', '007', '008']"
   ]
  },
  {
   "cell_type": "code",
   "execution_count": 4,
   "metadata": {},
   "outputs": [],
   "source": [
    "nTrialsTotal = np.ones(len(subs)) * 0\n",
    "nBlocksTotal = np.ones(len(subs)) * 0\n",
    "nNoResp = np.ones(len(subs)) * 0\n",
    "nErrors = np.ones(len(subs)) * 0\n",
    "nSOT = np.ones(len(subs)) * 0\n",
    "nCOT = np.ones(len(subs)) * 0\n",
    "\n",
    "\n",
    "for idx, sub in enumerate(subs):\n",
    "    \n",
    "    nBlocks = np.shape(glob.glob(behavDir_base+'/%s/%s_HRL_Geo_Run*' %(sub, sub)))[0]\n",
    "    nTrialsTotal[idx] = np.multiply(nBlocks, 32)\n",
    "    nBlocksTotal[idx] = nBlocks\n",
    "    \n",
    "    for block in range(nBlocks):\n",
    "        \n",
    "        if sub in ['001', '002', '003']:\n",
    "            fname = glob.glob(behavDir_base+'/%s/%s_HRL_Geo_Run_%s.csv' %(sub, sub,block+1))\n",
    "        else:\n",
    "            fname = glob.glob(behavDir_base+'/%s/%s_HRL_Geo_Run_%s_' %(sub, sub,block+1) + '*')\n",
    "            \n",
    "        raw_data_arr = pd.read_csv(fname[0]).get_values()\n",
    "        \n",
    "        tOut_arr = np.asarray(raw_data_arr[:,22])\n",
    "        \n",
    "        if np.shape(np.where(tOut_arr == 'False'))[1] > 0:\n",
    "            columnFilter_StimResp_Inc = list(np.where(np.logical_or(tOut_arr == '1', tOut_arr == 'False'))).pop()\n",
    "            \n",
    "            columnFilter_NoResp = list(np.where(np.logical_or(tOut_arr == '1', tOut_arr == '-1'))).pop()\n",
    "            filtData_noResp = pd.read_csv(fname[0], skiprows = columnFilter_NoResp + 1)\n",
    "            nNoResp[idx] += np.shape(filtData_noResp)[0]\n",
    "        \n",
    "        else: \n",
    "            columnFilter_StimResp_Inc = list(np.where(tOut_arr == 1)).pop()\n",
    "            \n",
    "            nNoResp[idx] += 0\n",
    "        \n",
    "        filtData = pd.read_csv(fname[0], skiprows = columnFilter_StimResp_Inc + 1)\n",
    "        nErrors[idx] += np.shape(filtData)[0]\n",
    "        \n",
    "        ## Errors during \"Shape on Top\" ##\n",
    "        nSOT[idx] += np.shape(np.where(filtData['Rule'] == 'Shape-on-Top'))[1]\n",
    "        \n",
    "        ## Errors during \"Color on Top\" ##\n",
    "        nCOT[idx] += np.shape(np.where(filtData['Rule'] == 'Color-on-Top'))[1]"
   ]
  },
  {
   "cell_type": "code",
   "execution_count": 5,
   "metadata": {},
   "outputs": [
    {
     "name": "stdout",
     "output_type": "stream",
     "text": [
      "Number of Total Trials\n",
      " [320. 512. 448. 448. 576. 544. 512. 576.]\n",
      "\n",
      "Number of Blocks\n",
      " [10. 16. 14. 14. 18. 17. 16. 18.]\n",
      "\n",
      "Number of No-Response trials\n",
      " [ 5. 40. 22. 27.  2. 27. 41.  4.]\n",
      "\n",
      "Number of Errors\n",
      " [21. 73. 42. 86. 37. 15. 46. 26.]\n",
      "\n",
      "Errors in Shape on Top\n",
      " [11. 27. 24. 40. 19.  8. 29. 20.]\n",
      "\n",
      "Errors in Color on Top\n",
      " [10. 46. 18. 46. 18.  7. 17.  6.]\n"
     ]
    }
   ],
   "source": [
    "print('Number of Total Trials\\n', nTrialsTotal)\n",
    "print('\\nNumber of Blocks\\n', nBlocksTotal)\n",
    "print('\\nNumber of No-Response trials\\n', nNoResp)\n",
    "print('\\nNumber of Errors\\n', nErrors)\n",
    "print('\\nErrors in Shape on Top\\n', nSOT)\n",
    "print('\\nErrors in Color on Top\\n', nCOT)"
   ]
  }
 ],
 "metadata": {
  "kernelspec": {
   "display_name": "Python 3",
   "language": "python",
   "name": "python3"
  },
  "language_info": {
   "codemirror_mode": {
    "name": "ipython",
    "version": 3
   },
   "file_extension": ".py",
   "mimetype": "text/x-python",
   "name": "python",
   "nbconvert_exporter": "python",
   "pygments_lexer": "ipython3",
   "version": "3.7.7"
  }
 },
 "nbformat": 4,
 "nbformat_minor": 2
}
